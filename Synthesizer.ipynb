{
 "cells": [
  {
   "cell_type": "markdown",
   "metadata": {},
   "source": [
    "It's not too hard to make a simple audio synthesizer in a Jupyter notebook.\n",
    "IPywidgets has an [audio widget] for playing back sounds in the browser.\n",
    "\n",
    "[audio widget]: https://ipywidgets.readthedocs.io/en/stable/examples/Beat%20Frequencies.html\n"
   ]
  },
  {
   "cell_type": "code",
   "execution_count": null,
   "metadata": {},
   "outputs": [],
   "source": [
    "from functools import lru_cache # This import is just for speed\n",
    "import ipywidgets\n",
    "import IPython.display\n",
    "from fractions import Fraction\n",
    "import numpy as np\n",
    "import os"
   ]
  },
  {
   "cell_type": "code",
   "execution_count": null,
   "metadata": {},
   "outputs": [],
   "source": [
    "def make_audio_widget(data, sample_rate):\n",
    "    return IPython.display.Audio(data, rate=sample_rate)"
   ]
  },
  {
   "cell_type": "code",
   "execution_count": null,
   "metadata": {},
   "outputs": [],
   "source": [
    "def sin_series(basefrequency, timearray, coefficients, max_coefficients=20):\n",
    "    \"\"\"\n",
    "    Inputs:\n",
    "    -------\n",
    "    basefrequency: Number. The base frequency (in Hertz) of the sound.\n",
    "    timearray: Numpy array of shape(n,). The time at each sample.\n",
    "    coefficients: Either a list of coefficients or a \n",
    "        function that maps coefficient indeces to coefficient values.\n",
    "    \"\"\"\n",
    "    x = np.zeros_like(timearray)\n",
    "    try:\n",
    "        for coefficient in coefficients:\n",
    "            x += coefficient*np.sin(\n",
    "                2*np.pi*timearray*basefrequency*coefficient\n",
    "            )\n",
    "    except TypeError:\n",
    "        for coefficient in range(1, max_coefficients):\n",
    "            # print(coefficients(coefficient))\n",
    "            x += coefficients(coefficient)*np.sin(\n",
    "                2*np.pi*timearray*basefrequency*coefficient\n",
    "            )\n",
    "    x /= np.max(x) # Normalize the waveform\n",
    "    return x"
   ]
  },
  {
   "cell_type": "code",
   "execution_count": null,
   "metadata": {},
   "outputs": [],
   "source": [
    "def cancel_clicks(x, rampcount):\n",
    "    anticlick = np.ones_like(x)\n",
    "    ramp = np.linspace(0, 1, rampcount)\n",
    "    anticlick[:rampcount] = ramp\n",
    "    x *= anticlick\n",
    "    return None"
   ]
  },
  {
   "cell_type": "code",
   "execution_count": null,
   "metadata": {
    "collapsed": true
   },
   "outputs": [],
   "source": [
    "@lru_cache()\n",
    "def string_tone(\n",
    "    pitch, \n",
    "    tone=1, \n",
    "    volume=1, \n",
    "    fade=1, \n",
    "    sr=44010, \n",
    "    final_loudness=0.001,\n",
    "):\n",
    "    duration = -fade * np.log(0.001)\n",
    "    t = np.linspace(0, duration, int(duration*sr), endpoint = False)\n",
    "    rampcount = int(sr*0.005)\n",
    "    x = sin_series(\n",
    "        basefrequency=pitch,\n",
    "        timearray=t,\n",
    "        coefficients=lambda x: 1/(np.exp(tone*x))\n",
    "    )\n",
    "    x = 0.25*x / np.max(x)\n",
    "    x *= np.exp(-t/fade)\n",
    "    cancel_clicks(x, rampcount)\n",
    "    x *= volume\n",
    "    return x"
   ]
  },
  {
   "cell_type": "code",
   "execution_count": null,
   "metadata": {},
   "outputs": [],
   "source": [
    "def make_track(Notes, SampleRate,):\n",
    "    Times = [time for sound, time in Notes]\n",
    "    Track = np.zeros(\n",
    "        int(max(Times) * SampleRate)\n",
    "        + Notes[-1][0].shape[0]\n",
    "    )\n",
    "    for Note, Time in Notes:\n",
    "        StartIndex = int(SampleRate * Time)\n",
    "        EndIndex = StartIndex + Note.shape[0]\n",
    "        Track[StartIndex:EndIndex] += Note\n",
    "    return Track"
   ]
  },
  {
   "cell_type": "code",
   "execution_count": null,
   "metadata": {},
   "outputs": [],
   "source": [
    "def get_pitch(degree, octave, basefreq=32.70):\n",
    "    degree = int(degree)\n",
    "    octave = int(octave) - 1\n",
    "    return 2**(degree/12 + octave) * basefreq"
   ]
  },
  {
   "cell_type": "code",
   "execution_count": null,
   "metadata": {},
   "outputs": [],
   "source": [
    "def get_pitch_from_string(s):\n",
    "    octave = int(s[0], base=16)\n",
    "    degree = int(s[1], base=16)\n",
    "    return get_pitch(degree, octave)"
   ]
  },
  {
   "cell_type": "code",
   "execution_count": null,
   "metadata": {},
   "outputs": [],
   "source": [
    "def get_duration_from_string(s):\n",
    "    if len(s) > 2:\n",
    "        duration = float(s[2:])\n",
    "    else:\n",
    "        duration = 1\n",
    "    return duration"
   ]
  },
  {
   "cell_type": "code",
   "execution_count": null,
   "metadata": {},
   "outputs": [],
   "source": [
    "def play_simple_song(\n",
    "    Notes,\n",
    "    BaseDuration = 0.25,\n",
    "    NoteFade = 1,\n",
    "    SampleRate = 44010,\n",
    "    basefreq=32.70,\n",
    "    **kwargs\n",
    "):\n",
    "    Progress = ipywidgets.Text(description='progress: ')\n",
    "    length = len(Notes)\n",
    "    IPython.display.display(Progress)\n",
    "    NoteArrays = []\n",
    "    Time = 0\n",
    "    for i, NoteString in enumerate(Notes):\n",
    "        Pitch = get_pitch_from_string(NoteString)\n",
    "        Duration = get_duration_from_string(NoteString) * BaseDuration\n",
    "        NoteArray = string_tone(\n",
    "            Pitch, \n",
    "            fade=NoteFade,\n",
    "            sr=SampleRate,\n",
    "            \n",
    "            **kwargs\n",
    "        )\n",
    "        NoteArrays.append((NoteArray, Time))\n",
    "        Time += Duration\n",
    "        Progress.value = f'{i} / {length}'\n",
    "    Track = make_track(NoteArrays, SampleRate)\n",
    "    return make_audio_widget(Track, SampleRate)"
   ]
  },
  {
   "cell_type": "code",
   "execution_count": null,
   "metadata": {},
   "outputs": [],
   "source": [
    "Prelude = (\n",
    "     '20 27 34 32 34 27 34 27 '*2\n",
    "    +'20 29 35 34 35 29 35 29 '*2\n",
    "    +'20 2B 35 34 35 2B 35 2B '*2\n",
    "    +'20 30 34 32 34 30 34 30 '\n",
    "    +'20 30 34 32 34 30 34 2B '\n",
    "    +'20 29 34 32 34 30 2B 30 '\n",
    "    +'29 30 2b 30 24 27 26 24 '\n",
    "    +'26 30 32 30 32 30 32 30 '*2\n",
    "    +'2b 32 37 36 37 32 30 32 '\n",
    "    +'2b 32 30 32 27 2b 29 27 '\n",
    "    +'19 24 30 2B 30 24 30 24 '*2\n",
    "    +'19 26 27 29 27 26 24 22 '\n",
    "    +'30 2b 29 37 36 34 32 30 '\n",
    "    +'2b 29 27 37 32 37 2b 32 '\n",
    "    +'27 29 2b 32 30 2b 29 27 '\n",
    "    +'31 27 2a 29 2a 27 31 27 '\n",
    "    +'34 27 2a 29 2a 27 31 27 '\n",
    "    +'25 29 32 34 35 32 29 27 '\n",
    "    +'25 29 32 34 35 32 2b 29 '\n",
    "    +'28 2b 28 2b 32 2b 32 2b '*2\n",
    "    +'30 2b 29 30 2b 30 32 2b '\n",
    "    +'30 2b 29 27 25 24 22 20 '\n",
    "    +'1b 25 27 25 27 25 27 25 '*2\n",
    "    +'20 24 2a 29 2a 24 2a 24 '*2\n",
    "    +'20 25 29 27 29 25 29 25 '*2\n",
    "    +'20 2b 35 34 35 2b 35 2b '*2\n",
    "    +'20 30 34 32 34 30 2b 29 '\n",
    "    +'27 25 24 22 20 1b 19 17 '\n",
    "    +'16 22 29 2b 30 29 2b 30 '*2\n",
    "    +'15 22 27 29 2b 27 29 2b '*2\n",
    "    +'15 22 27 2b 32 36 378   '\n",
    "    +'22 24 25 27 29 2b 30 32 '\n",
    "    +'2b 27 29 2b 30 32 34 35 '\n",
    "    +'32 2b 30 32 34 35 37 382 '\n",
    "    +'   37 36 37 37 35 34 35 '\n",
    "    +'35 32 2b 29 27 22 24 25 '\n",
    "    +'17 1b 22 27 32 34 35 32 '\n",
    "    +'34 30 27 25 24 20 22 24 '\n",
    "    +'17 20 24 27 30 32 34 30 '\n",
    "    +'36 33 32 33 33 32 31 32 '\n",
    "    +'32 30 2b 30 30 29 26 24 '\n",
    "    +'22 26 29 30 32 36 37 36 '\n",
    "    +'37 32 2b 29 2b 32 27 2b '\n",
    "    +'22 27 26 24 22 20 1b 19 '\n",
    "    +'178                     '\n",
    "    +'373      36 34 32 30 2b '\n",
    "    +'29 37 36 34 32 30 2b 29 '\n",
    "    +'27 36 34 32 30 2b 29 27 '\n",
    "    +'25 34 32 30 2b 29 27 25 '\n",
    "    +'24 32 30 2b 29 27 25 24 '\n",
    "    +'22 30 2b 29 2b 32 27 32 '\n",
    "    +'29 32 2b 32 30 32 29 32 '\n",
    "    +'2b 32 27 32 30 32 29 32 '*2\n",
    "    +'2b 32 27 32 29 32 2b 32 '\n",
    "    +'30 32 32 32 34 32 27 32 '\n",
    "    +'32 32 34 32 35 32 27 32 '\n",
    "    +'34 32 35 32 37 32 34 32 '\n",
    "    +'35 32 34 32 35 32 32 32 '\n",
    "    +'34 32 32 32 34 32 30 32 '\n",
    "    +'32 32 30 32 32 32 2b 32 '\n",
    "    +'30 32 2b 32 30 32 29 32 '\n",
    "    +'2b 32 27 29 2a 27 2b 27 '\n",
    "    +'30 27 31 27 32 27 33 27 '\n",
    "    +'34 27 35 27 36 27 37 27 '\n",
    "    +'38 27 39 27 3a 27 3b 27 '\n",
    "    +'40 34 27 34 40 34 40 34 '\n",
    "    +'40 34 27 34 40 34 40 34 '\n",
    "    +'40 32 27 32 40 32 40 32 '\n",
    "    +'40 32 27 32 40 32 40 32 '\n",
    "    +'3b 35 27 35 3b 35 3b 35 '\n",
    "    +'3b 35 27 35 3b 35 3b 35 '\n",
    "    +'408'\n",
    "\n",
    ").split()"
   ]
  },
  {
   "cell_type": "code",
   "execution_count": null,
   "metadata": {},
   "outputs": [],
   "source": [
    "play_simple_song(\n",
    "    Prelude, \n",
    "    BaseDuration=.2, \n",
    "    NoteFade=.3, \n",
    "    volume=0.2, \n",
    "    tone=0.3,\n",
    "    \n",
    ")"
   ]
  },
  {
   "cell_type": "code",
   "execution_count": null,
   "metadata": {},
   "outputs": [],
   "source": []
  }
 ],
 "metadata": {
  "kernelspec": {
   "display_name": "Python 3",
   "language": "python",
   "name": "python3"
  },
  "language_info": {
   "codemirror_mode": {
    "name": "ipython",
    "version": 3
   },
   "file_extension": ".py",
   "mimetype": "text/x-python",
   "name": "python",
   "nbconvert_exporter": "python",
   "pygments_lexer": "ipython3",
   "version": "3.7.1"
  },
  "nikola": {
   "category": "",
   "date": "2019-01-22 06:41:53 UTC-08:00",
   "description": "",
   "link": "",
   "slug": "an-in-notebook-synthesizer",
   "tags": "",
   "title": "An In-Notebook Synthesizer",
   "type": "text"
  }
 },
 "nbformat": 4,
 "nbformat_minor": 2
}
